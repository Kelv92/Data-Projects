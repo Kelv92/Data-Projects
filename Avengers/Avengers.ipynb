{
 "cells": [
  {
   "cell_type": "code",
   "execution_count": 12,
   "metadata": {
    "collapsed": false
   },
   "outputs": [
    {
     "name": "stdout",
     "output_type": "stream",
     "text": [
      "                                                 URL  \\\n",
      "0      http://marvel.wikia.com/Henry_Pym_(Earth-616)   \n",
      "1  http://marvel.wikia.com/Janet_van_Dyne_(Earth-...   \n",
      "2  http://marvel.wikia.com/Anthony_Stark_(Earth-616)   \n",
      "3  http://marvel.wikia.com/Robert_Bruce_Banner_(E...   \n",
      "4   http://marvel.wikia.com/Thor_Odinson_(Earth-616)   \n",
      "\n",
      "                    Name/Alias  Appearances Current?  Gender  \\\n",
      "0    Henry Jonathan \"Hank\" Pym         1269      YES    MALE   \n",
      "1               Janet van Dyne         1165      YES  FEMALE   \n",
      "2  Anthony Edward \"Tony\" Stark         3068      YES    MALE   \n",
      "3          Robert Bruce Banner         2089      YES    MALE   \n",
      "4                 Thor Odinson         2402      YES    MALE   \n",
      "\n",
      "  Probationary Introl Full/Reserve Avengers Intro  Year  Years since joining  \\\n",
      "0                 NaN                      Sep-63  1963                   52   \n",
      "1                 NaN                      Sep-63  1963                   52   \n",
      "2                 NaN                      Sep-63  1963                   52   \n",
      "3                 NaN                      Sep-63  1963                   52   \n",
      "4                 NaN                      Sep-63  1963                   52   \n",
      "\n",
      "  Honorary                        ...                         Return1 Death2  \\\n",
      "0     Full                        ...                              NO    NaN   \n",
      "1     Full                        ...                             YES    NaN   \n",
      "2     Full                        ...                             YES    NaN   \n",
      "3     Full                        ...                             YES    NaN   \n",
      "4     Full                        ...                             YES    YES   \n",
      "\n",
      "  Return2 Death3 Return3 Death4 Return4 Death5 Return5  \\\n",
      "0     NaN    NaN     NaN    NaN     NaN    NaN     NaN   \n",
      "1     NaN    NaN     NaN    NaN     NaN    NaN     NaN   \n",
      "2     NaN    NaN     NaN    NaN     NaN    NaN     NaN   \n",
      "3     NaN    NaN     NaN    NaN     NaN    NaN     NaN   \n",
      "4      NO    NaN     NaN    NaN     NaN    NaN     NaN   \n",
      "\n",
      "                                               Notes  \n",
      "0  Merged with Ultron in Rage of Ultron Vol. 1. A...  \n",
      "1  Dies in Secret Invasion V1:I8. Actually was se...  \n",
      "2  Death: \"Later while under the influence of Imm...  \n",
      "3  Dies in Ghosts of the Future arc. However \"he ...  \n",
      "4  Dies in Fear Itself brought back because that'...  \n",
      "\n",
      "[5 rows x 21 columns]\n"
     ]
    }
   ],
   "source": [
    "import pandas as pd\n",
    "\n",
    "avengers = pd.read_csv(\"avengers1.csv\")\n",
    "print(avengers.head())"
   ]
  },
  {
   "cell_type": "code",
   "execution_count": 15,
   "metadata": {
    "collapsed": false
   },
   "outputs": [
    {
     "data": {
      "text/plain": [
       "<matplotlib.axes._subplots.AxesSubplot at 0x112b1ab70>"
      ]
     },
     "execution_count": 15,
     "metadata": {},
     "output_type": "execute_result"
    },
    {
     "data": {
      "image/png": "[encoded data removed]",
      "text/plain": [
       "<matplotlib.figure.Figure at 0x115bd9a20>"
      ]
     },
     "metadata": {},
     "output_type": "display_data"
    }
   ],
   "source": [
    "%matplotlib inline\n",
    "import matplotlib.pyplot as plt\n",
    "avengers[\"Year\"].hist()"
   ]
  },
  {
   "cell_type": "code",
   "execution_count": 69,
   "metadata": {
    "collapsed": false
   },
   "outputs": [
    {
     "name": "stdout",
     "output_type": "stream",
     "text": [
      "0    91\n",
      "1    52\n",
      "2    14\n",
      "5     1\n",
      "3     1\n",
      "Name: Deaths, dtype: int64\n"
     ]
    },
    {
     "name": "stderr",
     "output_type": "stream",
     "text": [
      "//anaconda/lib/python3.5/site-packages/ipykernel/__main__.py:22: SettingWithCopyWarning: \n",
      "A value is trying to be set on a copy of a slice from a DataFrame.\n",
      "Try using .loc[row_indexer,col_indexer] = value instead\n",
      "\n",
      "See the caveats in the documentation: http://pandas.pydata.org/pandas-docs/stable/indexing.html#indexing-view-versus-copy\n"
     ]
    }
   ],
   "source": [
    "#Removing invalid data\n",
    "true_avengers_bool = avengers[\"Year\"]>1960\n",
    "true_avengers = avengers[true_avengers_bool]\n",
    "#Creating new column, consolidating deaths\n",
    "death_field = [\"Death1\",\"Death2\",\"Death3\", \"Death4\",\"Death5\"]\n",
    "\n",
    "def deaths_bol_convert(series):\n",
    "    r = true_avengers[series] == \"YES\"\n",
    "    return r\n",
    "deaths = pd.DataFrame()\n",
    "\n",
    "for d in death_field:\n",
    "    deaths[d] = deaths_bol_convert(d)\n",
    "\n",
    "def consolidate_death(row):\n",
    "    tot_death = 0\n",
    "    for i in death_field:\n",
    "        if row[i] == True:\n",
    "            tot_death += 1;\n",
    "    return tot_death\n",
    "k= deaths.apply(consolidate_death,axis = 1)\n",
    "true_avengers['Deaths'] = k\n",
    "\n",
    "print(true_avengers[\"Deaths\"].value_counts())"
   ]
  },
  {
   "cell_type": "code",
   "execution_count": 113,
   "metadata": {
    "collapsed": false
   },
   "outputs": [
    {
     "name": "stdout",
     "output_type": "stream",
     "text": [
      "159\n"
     ]
    }
   ],
   "source": [
    "true_year_since = 2015 - true_avengers[\"Year\"]\n",
    "true_year_since_bool = true_avengers[\"Years since joining\"] == true_year_since\n",
    "joined_accuracy_count = len(true_avengers[true_year_since_bool])\n",
    "print(joined_accuracy_count)"
   ]
  },
  {
   "cell_type": "code",
   "execution_count": null,
   "metadata": {
    "collapsed": true
   },
   "outputs": [],
   "source": []
  }
 ],
 "metadata": {
  "anaconda-cloud": {},
  "kernelspec": {
   "display_name": "Python [default]",
   "language": "python",
   "name": "python3"
  },
  "language_info": {
   "codemirror_mode": {
    "name": "ipython",
    "version": 3
   },
   "file_extension": ".py",
   "mimetype": "text/x-python",
   "name": "python",
   "nbconvert_exporter": "python",
   "pygments_lexer": "ipython3",
   "version": "3.5.2"
  }
 },
 "nbformat": 4,
 "nbformat_minor": 1
}
